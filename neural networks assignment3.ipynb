{
  "nbformat": 4,
  "nbformat_minor": 0,
  "metadata": {
    "colab": {
      "provenance": []
    },
    "kernelspec": {
      "name": "python3",
      "display_name": "Python 3"
    },
    "language_info": {
      "name": "python"
    }
  },
  "cells": [
    {
      "cell_type": "code",
      "execution_count": 2,
      "metadata": {
        "colab": {
          "base_uri": "https://localhost:8080/"
        },
        "id": "DTL8TxMHUNzE",
        "outputId": "1ef6d559-16d5-402e-a499-ac580b55f717"
      },
      "outputs": [
        {
          "output_type": "stream",
          "name": "stdout",
          "text": [
            "Employee 1: \n",
            "Enter name: nithin\n",
            "Family Members: 4\n",
            "Employee Salary: 99999\n",
            "Employee Department: cs\n",
            "Employee 2: \n",
            "Enter name: cherry\n",
            "Family Members: 4\n",
            "Employee Salary: 88888\n",
            "Employee Department: it\n",
            "Full Time Employee 1: \n",
            "Enter name: sruthi\n",
            "Family Members: 4\n",
            "Employee Salary: 99999999\n",
            "Employee Department: cis\n",
            "\n",
            "Number of employees:  3\n",
            "Avg salary is : 94443.5\n"
          ]
        }
      ],
      "source": [
        "class Employee:\n",
        "    numberOfEmployees = 0\n",
        "\n",
        "    def __init__(self, name, family, salary, department):\n",
        "        self.name = name\n",
        "        self.family = family\n",
        "        self.salary = salary\n",
        "        self.department = department\n",
        "        Employee.numberOfEmployees+=1\n",
        "\n",
        "\n",
        "def averagesalary(employee):\n",
        "    total = sum(e.salary for e in employee)\n",
        "    average = total / len(employee)\n",
        "    return average\n",
        "\n",
        "class FulltimeEmployee(Employee):\n",
        "    def __init__(self, name, family, salary, department):\n",
        "        Employee.__init__(self,name, family, salary, department)\n",
        "\n",
        "print(\"Employee 1: \")\n",
        "employee1 = Employee(input(\"Enter name: \"),input(\"Family Members: \"),int(input(\"Employee Salary: \")),input(\"Employee Department: \"))\n",
        "print(\"Employee 2: \")\n",
        "employee2 = Employee(input(\"Enter name: \"),input(\"Family Members: \"),int(input(\"Employee Salary: \")),input(\"Employee Department: \"))\n",
        "print(\"Full Time Employee 1: \")\n",
        "employee3 = FulltimeEmployee(input(\"Enter name: \"),input(\"Family Members: \"),int(input(\"Employee Salary: \")),input(\"Employee Department: \"))\n",
        "print(\"\")\n",
        "print(\"Number of employees: \",Employee.numberOfEmployees)\n",
        "listofEmployees = [employee1, employee2]\n",
        "avgsalary = averagesalary(listofEmployees)\n",
        "print(\"Avg salary is :\", avgsalary)"
      ]
    },
    {
      "cell_type": "code",
      "source": [
        "import numpy\n",
        "\n",
        "random_vector = numpy.random.uniform(1, 20, 20)\n",
        "print(random_vector)\n",
        "print(\"\")\n",
        "print(\"\")\n",
        "reshaped_array = random_vector.reshape(4, 5)\n",
        "print(\"\")\n",
        "print(\"\")\n",
        "print(reshaped_array)\n",
        "reshaped_array[numpy.arange(4), numpy.argmax(reshaped_array, axis=1)] = 0\n",
        "print(\"\")\n",
        "print(\"\")\n",
        "print(reshaped_array)"
      ],
      "metadata": {
        "colab": {
          "base_uri": "https://localhost:8080/"
        },
        "id": "pX8tWDDvVhUG",
        "outputId": "dc3e7d22-3d50-4d0d-f22b-a3a02632bcc7"
      },
      "execution_count": 3,
      "outputs": [
        {
          "output_type": "stream",
          "name": "stdout",
          "text": [
            "[ 5.26872909 19.6310342  16.89669741 15.99653785 19.1632096   5.55375443\n",
            " 15.66782223 15.41435225 11.18893753 13.31943311  6.81626875  6.19709968\n",
            "  5.84411586 12.50773059 16.22810806  1.12081743 17.11857214 17.24846445\n",
            " 14.69192228  6.34194946]\n",
            "\n",
            "\n",
            "\n",
            "\n",
            "[[ 5.26872909 19.6310342  16.89669741 15.99653785 19.1632096 ]\n",
            " [ 5.55375443 15.66782223 15.41435225 11.18893753 13.31943311]\n",
            " [ 6.81626875  6.19709968  5.84411586 12.50773059 16.22810806]\n",
            " [ 1.12081743 17.11857214 17.24846445 14.69192228  6.34194946]]\n",
            "\n",
            "\n",
            "[[ 5.26872909  0.         16.89669741 15.99653785 19.1632096 ]\n",
            " [ 5.55375443  0.         15.41435225 11.18893753 13.31943311]\n",
            " [ 6.81626875  6.19709968  5.84411586 12.50773059  0.        ]\n",
            " [ 1.12081743 17.11857214  0.         14.69192228  6.34194946]]\n"
          ]
        }
      ]
    }
  ]
}